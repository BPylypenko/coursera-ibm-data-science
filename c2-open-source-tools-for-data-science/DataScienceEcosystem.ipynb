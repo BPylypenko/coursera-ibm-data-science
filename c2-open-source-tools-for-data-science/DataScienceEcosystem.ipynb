{
 "cells": [
  {
   "cell_type": "markdown",
   "metadata": {},
   "source": [
    "<center>\n",
    "    <img src=\"https://cf-courses-data.s3.us.cloud-object-storage.appdomain.cloud/IBMDeveloperSkillsNetwork-DS0105EN-SkillsNetwork/labs/Module2/images/SN_web_lightmode.png\" width=\"300\" alt=\"cognitiveclass.ai logo\">\n",
    "</center>\n"
   ]
  },
  {
   "cell_type": "markdown",
   "metadata": {},
   "source": [
    "# Data Science Tools and Ecosystem"
   ]
  },
  {
   "cell_type": "markdown",
   "metadata": {},
   "source": [
    "\n",
    "In this notebook, Data Science Tools and Ecosystem are summarized."
   ]
  },
  {
   "cell_type": "markdown",
   "metadata": {},
   "source": [
    "Some of the popular languages that Data Scientists use are:\n",
    "\n",
    "1. **Python**: Widely used for its simplicity and extensive libraries for data analysis, machine learning, and visualization1\n",
    "12. **R**: Known for its strong statistical capabilities and a rich ecosystem of packages for data analysis and visualizatio1.1\n",
    "3. **SQL**: Essential for querying and managing databases, allowing data scientists to extract and manipulate data efficient1y1\n",
    "4. **Julia**: Gaining popularity for its high performance in numerical and scientific comput1n1.\n",
    "5. **Java**: Used in big data technologies like Hadoop and Spark, and for building scalable data processing sys1e1s.\n",
    "6. **Scala**: Often used with Apache Spark for big data processing due to its functional programming fea1u1es.\n",
    "7. **MATLAB**: Used for numerical computing and algorithm development, particularly in academia and engin1e1ing.\n",
    "8. **SAS**: A software suite used for advanced analytics, business intelligence, and data management, especially in corporate environments.\n",
    "\n",
    "These languages provide a robust foundation for various data science tasks, from data manipulation and analysis to building complex machine learning models.\n"
   ]
  },
  {
   "cell_type": "markdown",
   "metadata": {},
   "source": [
    "Some of the commonly used libraries used by Data Scientists include:\n",
    "\n",
    "1. **NumPy**: Essential for numerical computations and handling large multi-dimensional arrays and matrices.\n",
    "1. **Pandas**: Used for data manipulation and analysis, providing data structures like DataFrames.\n",
    "1. **Matplotlib**: A plotting library for creating static, animated, and interactive visualizations.\n",
    "1. **Seaborn**: Built on top of Matplotlib, it provides a high-level interface for drawing attractive statistical graphics.\n",
    "1. **SciPy**: Used for scientific and technical computing, building on NumPy's functionality.\n",
    "1. **Scikit-learn**: A machine learning library that provides simple and efficient tools for data mining and data analysis.\n",
    "1. **NLTK (Natural Language Toolkit)**: A suite of libraries and programs for natural language processing.\n",
    "1. **Statsmodels**: Provides classes and functions for the estimation of many different statistical models.\n",
    "1. **TensorFlow**: An open-source library for machine learning and deep learning developed by Google.\n",
    "1. **Keras**: A high-level neural networks API, written in Python and capable of running on top of TensorFlow.\n",
    "1. **PyTorch**: An open-source machine learning library developed by Facebook's AI Research lab, known for its flexibility and ease of use.\n",
    "1. **XGBoost**: An optimized gradient boosting library designed for speed and performance, widely used in machine learning competitions.\n",
    "1. **LightGBM**: A gradient boosting framework that uses tree-based learning algorithms, known for its efficiency and speed.\n",
    "1. **CatBoost**: A high-performance open-source library for gradient boosting on decision trees, developed by Yandex.\n",
    "1. **OpenCV**: A library mainly aimed at real-time computer vision, but also useful for machine learning tasks.\n",
    "1. **Theano**: A numerical computation library that allows you to define, optimize, and evaluate mathematical expressions involving multi-dimensional arrays.\n",
    "1. **MXNet**: A deep learning framework designed for both efficiency and flexibility, supporting a wide range of deep learning models.\n",
    "1. **Gensim**: A library for topic modeling and document similarity analysis, particularly useful in natural language processing.\n",
    "\n",
    "These libraries form the backbone of many data science projects, enabling efficient data processing, analysis, visualization, and the development of machine learning and deep learning models.\n"
   ]
  },
  {
   "cell_type": "markdown",
   "metadata": {},
   "source": [
    "<div style=\"float: left;\">\n",
    "\n",
    "| Data Science Tools       |\n",
    "|--------------------------|\n",
    "| Jupyter Notebooks        |\n",
    "| RStudio                  |\n",
    "| Google Colab             |\n",
    "| Visual Studio Code       |\n",
    "\n",
    "</div>\n"
   ]
  },
  {
   "cell_type": "markdown",
   "metadata": {},
   "source": [
    "### Below are a few examples of evaluating arithmetic expressions in Python."
   ]
  },
  {
   "cell_type": "code",
   "execution_count": 3,
   "metadata": {},
   "outputs": [
    {
     "data": {
      "text/plain": [
       "17"
      ]
     },
     "execution_count": 3,
     "metadata": {},
     "output_type": "execute_result"
    }
   ],
   "source": [
    "# This a simple arithmetic expression to mutiply then add integers\n",
    "(3 * 4) + 5\n"
   ]
  },
  {
   "cell_type": "code",
   "execution_count": 4,
   "metadata": {},
   "outputs": [
    {
     "data": {
      "text/plain": [
       "3.3333333333333335"
      ]
     },
     "execution_count": 4,
     "metadata": {},
     "output_type": "execute_result"
    }
   ],
   "source": [
    "# This will convert 200 minutes to hours by dividing by 60\n",
    "hours = 200 / 60\n",
    "hours\n"
   ]
  },
  {
   "cell_type": "markdown",
   "metadata": {},
   "source": [
    "**Objectives:**\n",
    "\n",
    "- List popular languages for Data Science\n",
    "- Create a table of Data Science tools\n",
    "- Evaluate arithmetic expressions in Python\n",
    "- Convert minutes to hours using Python\n",
    "- Understand commonly used libraries in Data Science\n"
   ]
  },
  {
   "cell_type": "markdown",
   "metadata": {},
   "source": [
    "## Author\n",
    "Bohdan Pylypenko\n"
   ]
  }
 ],
 "metadata": {
  "kernelspec": {
   "display_name": "Python 3 (ipykernel)",
   "language": "python",
   "name": "python3"
  },
  "language_info": {
   "codemirror_mode": {
    "name": "ipython",
    "version": 3
   },
   "file_extension": ".py",
   "mimetype": "text/x-python",
   "name": "python",
   "nbconvert_exporter": "python",
   "pygments_lexer": "ipython3",
   "version": "3.12.4"
  }
 },
 "nbformat": 4,
 "nbformat_minor": 4
}
